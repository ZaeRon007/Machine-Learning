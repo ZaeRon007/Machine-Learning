{
 "cells": [
  {
   "cell_type": "markdown",
   "metadata": {},
   "source": [
    "# TD de machine Learning : Catégorisation musicale\n",
    "\n",
    "**Elective** : Machine Learning   \n",
    "**Professeur** : Théophile Ravillion   \n",
    "**Date** : Vendredi 23 Avril 2021\n",
    "\n",
    "## Contexte \n",
    "Vous travaillez chez Deezer, département Data Science, félicitations.\n",
    "D'habiles ingénieurs musicologues ont mis au point un jeu de données contenant des informations sur des morceaux de musique. \n",
    "Avec quelques transformées de Fourier et autres joyeusetés propres à leur art, ils ont mis au point deux jeux de données contenant de nombreux indicateurs décrivant un morceau de musique.\n",
    "Ils comptent sur vous pour mettre au point un algorithme capable d'identifier le genre musical d'un morceau sur la base des différents indicateurs qu'ils ont mis au point.\n",
    "Vous vous apprétiez à leur demander des informations concernant ces variables mais vous constatez qu'ils sont partis en séminaire d'entreprise et que vous vous retrouvez tout seul avec un jeu d'entrainement étiqueté, un jeu de test et un post-it goguenard de votre chef qui vous demande de faire des prédictions précises sur le jeu de test d'ici 16h.\n",
    "\n",
    "## Votre défi :\n",
    "Modéliser le problème, construire un modèle et faire une prédiction de la catégorie à laquelle appartient chaque élément du fichier test.csv à l'aide d'un modèle aussi simple et performant que possible.\n",
    "\n",
    "\n",
    "## Livrable\n",
    "Un projet github contenant un notebook + un fichier prédictions.csv contenant les prédictions faites sur le jeu de test\n",
    "\n",
    "En header le nom des colonnes (music_id et prediction) et pour chacun des morceaux la catégorie prédite.\n",
    "Merci d'utiliser la virgule comme séparateur \n",
    "\n",
    "Bonne chance !"
   ]
  },
  {
   "cell_type": "markdown",
   "metadata": {},
   "source": [
    "# Feuille de route\n",
    "\n",
    "Comment procéder ? \n",
    "Pour réaliser cet exercice, il vous faudra :\n",
    "\n",
    "## Récuperer les données "
   ]
  },
  {
   "cell_type": "code",
   "execution_count": null,
   "metadata": {},
   "outputs": [],
   "source": [
    "import pandas as pd\n",
    "\n",
    "url_train = \"https://raw.githubusercontent.com/RTheophile/td_ml_ynov/main/data/train.csv\"\n",
    "url_test = \"https://raw.githubusercontent.com/RTheophile/td_ml_ynov/main/data/test.csv\"\n",
    "\n",
    "df_train = pd.read_csv(url_train, sep=',', decimal='.' )\n",
    "df_test = pd.read_csv(url_test, sep=',', decimal='.' )\n"
   ]
  },
  {
   "cell_type": "markdown",
   "metadata": {},
   "source": [
    "## Analyser les données  \n",
    "Identifier la distribution de chaque variable  \n",
    "Données manquantes    \n",
    "Données aberrantes   \n",
    "Données corrélées entre elles  \n",
    "\n",
    "### Boite à outils :   \n",
    "**Décrire le contenu d'un dataframe pandas**   \n",
    "`df.info()`   \n",
    "`df.describe()`   \n",
    "\n",
    "Gallerie Seaborn : https://seaborn.pydata.org/examples/index.html#   \n",
    "Histograme : https://seaborn.pydata.org/generated/seaborn.histplot.html   \n",
    "PairPlot : https://seaborn.pydata.org/generated/seaborn.pairplot.html   \n",
    "Corrélogramme : https://seaborn.pydata.org/generated/seaborn.heatmap.html   \n",
    "\n",
    "**Imputation des valeurs manquantes :**   \n",
    "KNNImputer : https://scikit-learn.org/stable/modules/generated/sklearn.impute.KNNImputer.html  \n",
    "`df['chroma_0_mean'] = df['chroma_0_mean'].fillna(df['chroma_0_mean'].mean())`  \n",
    "`df['chroma_0_mean'] = df['chroma_0_mean'].fillna(df['chroma_0_mean'].median())`  \n",
    "`df['chroma_0_mean'] = df['chroma_0_mean'].fillna(df['chroma_0_mean'].mode())`  \n",
    "\n",
    "**Quelques fonctions pandas utiles :**  \n",
    "**Supprimer la ligne** i du dataframe df :   \n",
    "`df.drop(i, axis=0, inplace=True)`\n",
    "  \n",
    "**Supprimer la colonne** c du dataframe df :   \n",
    "`df.drop(i, axis=1, inplace=True)`\n",
    "  \n",
    "**Appliquer la fonction f** sur la colonne c du dataframe df :   \n",
    "`df[c] = df[c].apply(lambda x : f(x))`\n",
    "\n",
    "**Selectionner**  les 5 premiers éléments d'un dataframe df :   \n",
    "`df.head(5)`\n",
    "\n",
    "**Selectionner**  les 5 derniers éléments d'un dataframe df :   \n",
    "`df.tail(5)`\n",
    "\n",
    "**Selectionner**  les éléments d'un dataframe qui satisfont une condition :   \n",
    "ex : selectionner toutes les lignes dont le prix est supérieur à 100 :  \n",
    "`df[df['prix'] > 100]`"
   ]
  },
  {
   "cell_type": "code",
   "execution_count": null,
   "metadata": {
    "scrolled": true
   },
   "outputs": [],
   "source": [
    "from sklearn.preprocessing import RobustScaler\n",
    "import seaborn as sns\n",
    "import matplotlib.pyplot as plt\n",
    "#sns.set_theme(style=\"whitegrid\")\n",
    "import numpy as np\n",
    "from sklearn.ensemble import IsolationForest\n",
    "\n",
    "# selection des données choisies\n",
    "y_train = df_train.category\n",
    "x_train = df_train.drop(['music_id','category'], axis=1)\n",
    "\n",
    "#y_test = df_test.category\n",
    "x_test = df_test.drop(['music_id'], axis=1)"
   ]
  },
  {
   "cell_type": "code",
   "execution_count": null,
   "metadata": {
    "scrolled": true
   },
   "outputs": [],
   "source": [
    "low = .01\n",
    "high = .99\n",
    "quant_x_train = x_train.quantile([low, high])\n",
    "print(quant_x_train)"
   ]
  },
  {
   "cell_type": "code",
   "execution_count": null,
   "metadata": {},
   "outputs": [],
   "source": [
    "quant_x_test = x_test.quantile([low, high])\n",
    "print(quant_x_test)"
   ]
  },
  {
   "cell_type": "code",
   "execution_count": null,
   "metadata": {},
   "outputs": [],
   "source": [
    "# Affichage NaN x_train\n",
    "x_train = x_train.apply(lambda x: x[(x>quant_x_train.loc[low,x.name]) & \n",
    "                                    (x < quant_x_train.loc[high,x.name])], axis=0)\n",
    "\n",
    "for col_name in x_train.columns:\n",
    "    print(x_train.isna()[col_name].value_counts())\n",
    "    print ('---')\n",
    "    \n",
    "#x_train.shape"
   ]
  },
  {
   "cell_type": "code",
   "execution_count": null,
   "metadata": {},
   "outputs": [],
   "source": [
    "# Affichage NaN x_test\n",
    "x_test = x_test.apply(lambda x: x[(x>quant_x_test.loc[low,x.name]) & \n",
    "                                    (x < quant_x_test.loc[high,x.name])], axis=0)\n",
    "for col_name in x_test.columns:\n",
    "    print(x_test.isna()[col_name].value_counts())\n",
    "    print ('---')"
   ]
  },
  {
   "cell_type": "code",
   "execution_count": 33,
   "metadata": {},
   "outputs": [],
   "source": [
    "# retrait des données NaN x_train: On remplace par la moyenne étant donné \n",
    "#qu'il n'y a que 3 Nan par colonne\n",
    "for col in x_train.columns :\n",
    "    x_train[col] = x_train[col].fillna(x_train[col].mean())\n",
    "\n",
    "#x_train.shape"
   ]
  },
  {
   "cell_type": "code",
   "execution_count": 34,
   "metadata": {},
   "outputs": [],
   "source": [
    "# retrait des données NaN x_test: On remplace par la moyenne étant donné \n",
    "#qu'il n'y a que 3 Nan par colonne\n",
    "for col in x_test.columns :\n",
    "    x_test[col] = x_test[col].fillna(x_test[col].mean())"
   ]
  },
  {
   "cell_type": "code",
   "execution_count": 35,
   "metadata": {},
   "outputs": [
    {
     "name": "stdout",
     "output_type": "stream",
     "text": [
      "False    320\n",
      "Name: chroma_0_mean, dtype: int64\n",
      "---\n",
      "False    320\n",
      "Name: chroma_0_std, dtype: int64\n",
      "---\n",
      "False    320\n",
      "Name: chroma_10_mean, dtype: int64\n",
      "---\n",
      "False    320\n",
      "Name: chroma_10_std, dtype: int64\n",
      "---\n",
      "False    320\n",
      "Name: chroma_11_mean, dtype: int64\n",
      "---\n",
      "False    320\n",
      "Name: chroma_11_std, dtype: int64\n",
      "---\n",
      "False    320\n",
      "Name: chroma_1_mean, dtype: int64\n",
      "---\n",
      "False    320\n",
      "Name: chroma_1_std, dtype: int64\n",
      "---\n",
      "False    320\n",
      "Name: chroma_2_mean, dtype: int64\n",
      "---\n",
      "False    320\n",
      "Name: chroma_2_std, dtype: int64\n",
      "---\n",
      "False    320\n",
      "Name: chroma_3_mean, dtype: int64\n",
      "---\n",
      "False    320\n",
      "Name: chroma_3_std, dtype: int64\n",
      "---\n",
      "False    320\n",
      "Name: chroma_4_mean, dtype: int64\n",
      "---\n",
      "False    320\n",
      "Name: chroma_4_std, dtype: int64\n",
      "---\n",
      "False    320\n",
      "Name: chroma_5_mean, dtype: int64\n",
      "---\n",
      "False    320\n",
      "Name: chroma_5_std, dtype: int64\n",
      "---\n",
      "False    320\n",
      "Name: chroma_6_mean, dtype: int64\n",
      "---\n",
      "False    320\n",
      "Name: chroma_6_std, dtype: int64\n",
      "---\n",
      "False    320\n",
      "Name: chroma_7_mean, dtype: int64\n",
      "---\n",
      "False    320\n",
      "Name: chroma_7_std, dtype: int64\n",
      "---\n",
      "False    320\n",
      "Name: chroma_8_mean, dtype: int64\n",
      "---\n",
      "False    320\n",
      "Name: chroma_8_std, dtype: int64\n",
      "---\n",
      "False    320\n",
      "Name: chroma_9_mean, dtype: int64\n",
      "---\n",
      "False    320\n",
      "Name: chroma_9_std, dtype: int64\n",
      "---\n",
      "False    320\n",
      "Name: chroma_centroid_mean, dtype: int64\n",
      "---\n",
      "False    320\n",
      "Name: chroma_flux_mean, dtype: int64\n",
      "---\n",
      "False    320\n",
      "Name: chroma_max, dtype: int64\n",
      "---\n",
      "False    320\n",
      "Name: chroma_min, dtype: int64\n",
      "---\n",
      "False    320\n",
      "Name: chroma_spread_mean, dtype: int64\n",
      "---\n",
      "False    320\n",
      "Name: mfcc_10_mean, dtype: int64\n",
      "---\n",
      "False    320\n",
      "Name: mfcc_10_std, dtype: int64\n",
      "---\n",
      "False    320\n",
      "Name: mfcc_11_mean, dtype: int64\n",
      "---\n",
      "False    320\n",
      "Name: mfcc_11_std, dtype: int64\n",
      "---\n",
      "False    320\n",
      "Name: mfcc_12_mean, dtype: int64\n",
      "---\n",
      "False    320\n",
      "Name: mfcc_12_std, dtype: int64\n",
      "---\n",
      "False    320\n",
      "Name: mfcc_13_mean, dtype: int64\n",
      "---\n",
      "False    320\n",
      "Name: mfcc_13_std, dtype: int64\n",
      "---\n",
      "False    320\n",
      "Name: mfcc_2_mean, dtype: int64\n",
      "---\n",
      "False    320\n",
      "Name: mfcc_2_std, dtype: int64\n",
      "---\n",
      "False    320\n",
      "Name: mfcc_3_mean, dtype: int64\n",
      "---\n",
      "False    320\n",
      "Name: mfcc_3_std, dtype: int64\n",
      "---\n",
      "False    320\n",
      "Name: mfcc_4_mean, dtype: int64\n",
      "---\n",
      "False    320\n",
      "Name: mfcc_4_std, dtype: int64\n",
      "---\n",
      "False    320\n",
      "Name: mfcc_5_mean, dtype: int64\n",
      "---\n",
      "False    320\n",
      "Name: mfcc_5_std, dtype: int64\n",
      "---\n",
      "False    320\n",
      "Name: mfcc_6_mean, dtype: int64\n",
      "---\n",
      "False    320\n",
      "Name: mfcc_6_std, dtype: int64\n",
      "---\n",
      "False    320\n",
      "Name: mfcc_7_mean, dtype: int64\n",
      "---\n",
      "False    320\n",
      "Name: mfcc_7_std, dtype: int64\n",
      "---\n",
      "False    320\n",
      "Name: mfcc_8_mean, dtype: int64\n",
      "---\n",
      "False    320\n",
      "Name: mfcc_8_std, dtype: int64\n",
      "---\n",
      "False    320\n",
      "Name: mfcc_9_mean, dtype: int64\n",
      "---\n",
      "False    320\n",
      "Name: mfcc_9_std, dtype: int64\n",
      "---\n",
      "False    320\n",
      "Name: onset_rate, dtype: int64\n",
      "---\n",
      "False    320\n",
      "Name: spectral_centroid_mean, dtype: int64\n",
      "---\n",
      "False    320\n",
      "Name: spectral_decrease_mean, dtype: int64\n",
      "---\n",
      "False    320\n",
      "Name: spectral_flux_mean, dtype: int64\n",
      "---\n",
      "False    320\n",
      "Name: spectral_rolloff_mean, dtype: int64\n",
      "---\n",
      "False    320\n",
      "Name: spectral_spread_mean, dtype: int64\n",
      "---\n",
      "False    320\n",
      "Name: zcr_mean, dtype: int64\n",
      "---\n",
      "False    320\n",
      "Name: zcr_std, dtype: int64\n",
      "---\n"
     ]
    }
   ],
   "source": [
    "# Affichage du nombre de NaN x_train\n",
    "for col_name in x_train.columns:\n",
    "    print(x_train.isna()[col_name].value_counts())\n",
    "    print ('---')\n",
    "    \n",
    "#x_train.shape"
   ]
  },
  {
   "cell_type": "code",
   "execution_count": 36,
   "metadata": {},
   "outputs": [
    {
     "name": "stdout",
     "output_type": "stream",
     "text": [
      "False    80\n",
      "Name: chroma_0_mean, dtype: int64\n",
      "---\n",
      "False    80\n",
      "Name: chroma_0_std, dtype: int64\n",
      "---\n",
      "False    80\n",
      "Name: chroma_10_mean, dtype: int64\n",
      "---\n",
      "False    80\n",
      "Name: chroma_10_std, dtype: int64\n",
      "---\n",
      "False    80\n",
      "Name: chroma_11_mean, dtype: int64\n",
      "---\n",
      "False    80\n",
      "Name: chroma_11_std, dtype: int64\n",
      "---\n",
      "False    80\n",
      "Name: chroma_1_mean, dtype: int64\n",
      "---\n",
      "False    80\n",
      "Name: chroma_1_std, dtype: int64\n",
      "---\n",
      "False    80\n",
      "Name: chroma_2_mean, dtype: int64\n",
      "---\n",
      "False    80\n",
      "Name: chroma_2_std, dtype: int64\n",
      "---\n",
      "False    80\n",
      "Name: chroma_3_mean, dtype: int64\n",
      "---\n",
      "False    80\n",
      "Name: chroma_3_std, dtype: int64\n",
      "---\n",
      "False    80\n",
      "Name: chroma_4_mean, dtype: int64\n",
      "---\n",
      "False    80\n",
      "Name: chroma_4_std, dtype: int64\n",
      "---\n",
      "False    80\n",
      "Name: chroma_5_mean, dtype: int64\n",
      "---\n",
      "False    80\n",
      "Name: chroma_5_std, dtype: int64\n",
      "---\n",
      "False    80\n",
      "Name: chroma_6_mean, dtype: int64\n",
      "---\n",
      "False    80\n",
      "Name: chroma_6_std, dtype: int64\n",
      "---\n",
      "False    80\n",
      "Name: chroma_7_mean, dtype: int64\n",
      "---\n",
      "False    80\n",
      "Name: chroma_7_std, dtype: int64\n",
      "---\n",
      "False    80\n",
      "Name: chroma_8_mean, dtype: int64\n",
      "---\n",
      "False    80\n",
      "Name: chroma_8_std, dtype: int64\n",
      "---\n",
      "False    80\n",
      "Name: chroma_9_mean, dtype: int64\n",
      "---\n",
      "False    80\n",
      "Name: chroma_9_std, dtype: int64\n",
      "---\n",
      "False    80\n",
      "Name: chroma_centroid_mean, dtype: int64\n",
      "---\n",
      "False    80\n",
      "Name: chroma_flux_mean, dtype: int64\n",
      "---\n",
      "False    80\n",
      "Name: chroma_max, dtype: int64\n",
      "---\n",
      "False    80\n",
      "Name: chroma_min, dtype: int64\n",
      "---\n",
      "False    80\n",
      "Name: chroma_spread_mean, dtype: int64\n",
      "---\n",
      "False    80\n",
      "Name: mfcc_10_mean, dtype: int64\n",
      "---\n",
      "False    80\n",
      "Name: mfcc_10_std, dtype: int64\n",
      "---\n",
      "False    80\n",
      "Name: mfcc_11_mean, dtype: int64\n",
      "---\n",
      "False    80\n",
      "Name: mfcc_11_std, dtype: int64\n",
      "---\n",
      "False    80\n",
      "Name: mfcc_12_mean, dtype: int64\n",
      "---\n",
      "False    80\n",
      "Name: mfcc_12_std, dtype: int64\n",
      "---\n",
      "False    80\n",
      "Name: mfcc_13_mean, dtype: int64\n",
      "---\n",
      "False    80\n",
      "Name: mfcc_13_std, dtype: int64\n",
      "---\n",
      "False    80\n",
      "Name: mfcc_2_mean, dtype: int64\n",
      "---\n",
      "False    80\n",
      "Name: mfcc_2_std, dtype: int64\n",
      "---\n",
      "False    80\n",
      "Name: mfcc_3_mean, dtype: int64\n",
      "---\n",
      "False    80\n",
      "Name: mfcc_3_std, dtype: int64\n",
      "---\n",
      "False    80\n",
      "Name: mfcc_4_mean, dtype: int64\n",
      "---\n",
      "False    80\n",
      "Name: mfcc_4_std, dtype: int64\n",
      "---\n",
      "False    80\n",
      "Name: mfcc_5_mean, dtype: int64\n",
      "---\n",
      "False    80\n",
      "Name: mfcc_5_std, dtype: int64\n",
      "---\n",
      "False    80\n",
      "Name: mfcc_6_mean, dtype: int64\n",
      "---\n",
      "False    80\n",
      "Name: mfcc_6_std, dtype: int64\n",
      "---\n",
      "False    80\n",
      "Name: mfcc_7_mean, dtype: int64\n",
      "---\n",
      "False    80\n",
      "Name: mfcc_7_std, dtype: int64\n",
      "---\n",
      "False    80\n",
      "Name: mfcc_8_mean, dtype: int64\n",
      "---\n",
      "False    80\n",
      "Name: mfcc_8_std, dtype: int64\n",
      "---\n",
      "False    80\n",
      "Name: mfcc_9_mean, dtype: int64\n",
      "---\n",
      "False    80\n",
      "Name: mfcc_9_std, dtype: int64\n",
      "---\n",
      "False    80\n",
      "Name: onset_rate, dtype: int64\n",
      "---\n",
      "False    80\n",
      "Name: spectral_centroid_mean, dtype: int64\n",
      "---\n",
      "False    80\n",
      "Name: spectral_decrease_mean, dtype: int64\n",
      "---\n",
      "False    80\n",
      "Name: spectral_flux_mean, dtype: int64\n",
      "---\n",
      "False    80\n",
      "Name: spectral_rolloff_mean, dtype: int64\n",
      "---\n",
      "False    80\n",
      "Name: spectral_spread_mean, dtype: int64\n",
      "---\n",
      "False    80\n",
      "Name: zcr_mean, dtype: int64\n",
      "---\n",
      "False    80\n",
      "Name: zcr_std, dtype: int64\n",
      "---\n"
     ]
    }
   ],
   "source": [
    "# Affichage du nombre de NaN x_test\n",
    "for col_name in x_test.columns:\n",
    "    print(x_test.isna()[col_name].value_counts())\n",
    "    print ('---')"
   ]
  },
  {
   "cell_type": "code",
   "execution_count": 37,
   "metadata": {
    "scrolled": true
   },
   "outputs": [
    {
     "name": "stdout",
     "output_type": "stream",
     "text": [
      "category                1.000000\n",
      "onset_rate              0.363652\n",
      "mfcc_4_mean             0.359016\n",
      "mfcc_2_std              0.273260\n",
      "mfcc_13_mean            0.269931\n",
      "zcr_std                 0.256540\n",
      "spectral_spread_mean    0.254121\n",
      "mfcc_8_mean             0.234996\n",
      "mfcc_11_mean            0.234832\n",
      "chroma_3_std            0.234073\n",
      "Name: category, dtype: float64 \n",
      "\n",
      "chroma_11_std   -0.091350\n",
      "mfcc_4_std      -0.100506\n",
      "mfcc_11_std     -0.114193\n",
      "mfcc_5_std      -0.142124\n",
      "chroma_max      -0.203903\n",
      "mfcc_10_std     -0.252480\n",
      "mfcc_6_std      -0.297109\n",
      "mfcc_9_std      -0.339786\n",
      "mfcc_7_std      -0.379257\n",
      "mfcc_8_std      -0.389740\n",
      "Name: category, dtype: float64\n"
     ]
    }
   ],
   "source": [
    "# Affichage des colonnes qui influent le plus le résultat\n",
    "numeric_features = df_train.select_dtypes(include=[np.number])\n",
    "corr = numeric_features.corr()\n",
    "#corr\n",
    "print (corr['category'].sort_values(ascending=False)[:10], '\\n')\n",
    "print (corr['category'].sort_values(ascending=False)[-10:])"
   ]
  },
  {
   "cell_type": "markdown",
   "metadata": {},
   "source": [
    "## Normaliser les données\n",
    "Choisir une méthode de normalisation, comparer les résultats obtenus avec différentes méthodes \n",
    "\n",
    "### Boite à outils\n",
    "\n",
    "K-NN : https://scikit-learn.org/stable/modules/generated/sklearn.neighbors.KNeighborsClassifier.html   \n",
    "Robust Scaler : https://scikit-learn.org/stable/modules/generated/sklearn.preprocessing.RobustScaler.html   \n",
    "StandardScaler : \n",
    "https://scikit-learn.org/stable/modules/generated/sklearn.preprocessing.StandardScaler.html#sklearn.preprocessing.StandardScaler         \n",
    "MinMaxScaler : \n",
    "https://scikit-learn.org/stable/modules/generated/sklearn.preprocessing.MinMaxScaler.html#sklearn.preprocessing.MinMaxScaler      "
   ]
  },
  {
   "cell_type": "code",
   "execution_count": 38,
   "metadata": {
    "scrolled": false
   },
   "outputs": [
    {
     "data": {
      "text/plain": [
       "(320, 61)"
      ]
     },
     "execution_count": 38,
     "metadata": {},
     "output_type": "execute_result"
    },
    {
     "data": {
      "image/png": "[encoded data removed]",
      "text/plain": [
       "<Figure size 432x288 with 2 Axes>"
      ]
     },
     "metadata": {
      "needs_background": "light"
     },
     "output_type": "display_data"
    }
   ],
   "source": [
    "# Données corrélées entres elles\n",
    "# Selection des données jugées pertinantes\n",
    "list = ['mfcc_12_mean','chroma_0_std',\n",
    "       'chroma_5_std',\n",
    "       'chroma_10_mean',\n",
    "       'chroma_7_std',\n",
    "       'mfcc_10_mean',\n",
    "       'chroma_9_mean',\n",
    "       'spectral_decrease_mean',\n",
    "       'mfcc_3_mean',\n",
    "       'chroma_11_mean',\n",
    "       'mfcc_12_std',\n",
    "       'chroma_10_std',\n",
    "       'chroma_8_std',\n",
    "       'chroma_9_std',\n",
    "       'mfcc_5_mean',\n",
    "       'mfcc_3_std',\n",
    "       'mfcc_9_mean',\n",
    "       'chroma_spread_mean',\n",
    "       'chroma_centroid_mean',\n",
    "       'chroma_11_std']\n",
    " \n",
    "#for curseur in list :\n",
    "#    x_train.drop(curseur, axis=1, inplace=True)\n",
    "#x_train.shape\n",
    "matrice_correlation = x_train.corr().abs()\n",
    "sns.heatmap(matrice_correlation)\n",
    "x_train.shape"
   ]
  },
  {
   "cell_type": "code",
   "execution_count": 39,
   "metadata": {},
   "outputs": [
    {
     "data": {
      "text/plain": [
       "(320, 61)"
      ]
     },
     "execution_count": 39,
     "metadata": {},
     "output_type": "execute_result"
    }
   ],
   "source": [
    "from sklearn.preprocessing import StandardScaler\n",
    "# Application d'un RobustScaler : Normalisation des données\n",
    "transformer_train_scaler = StandardScaler().fit(x_train)\n",
    "transformer_test_scaler = StandardScaler().fit(x_test)\n",
    "\n",
    "x_train_normal = transformer_train_scaler.transform(x_train)\n",
    "x_test_normal = transformer_test_scaler.transform(x_test)\n",
    "x_train_normal.shape\n",
    "\n",
    "#print(np.std(x_train_normal,axis=0,ddof=0))\n"
   ]
  },
  {
   "cell_type": "code",
   "execution_count": 40,
   "metadata": {},
   "outputs": [
    {
     "data": {
      "text/plain": [
       "(80, 61)"
      ]
     },
     "execution_count": 40,
     "metadata": {},
     "output_type": "execute_result"
    }
   ],
   "source": [
    "#print(np.std(x_test_normal,axis=0,ddof=0))\n",
    "x_test_normal.shape"
   ]
  },
  {
   "cell_type": "code",
   "execution_count": 41,
   "metadata": {},
   "outputs": [],
   "source": [
    "from sklearn.decomposition import PCA\n",
    "\n",
    "acp = PCA(n_components = 12)\n",
    "acp.fit(x_train_normal)\n",
    "x_train_reduc = acp.transform(x_train_normal)\n",
    "x_test_reduc = acp.transform(x_test_normal)\n"
   ]
  },
  {
   "cell_type": "code",
   "execution_count": 42,
   "metadata": {
    "scrolled": false
   },
   "outputs": [
    {
     "name": "stdout",
     "output_type": "stream",
     "text": [
      "[15.83809665  8.354833    3.63511616  3.16507381  2.69052835  1.9367243\n",
      "  1.70465508  1.62712323  1.30468312  1.17121927  1.08782196  1.07152028\n",
      "  0.98888064  0.96744897  0.88480612  0.85084486  0.80970754  0.72850938\n",
      "  0.68276567  0.66602237  0.63137106  0.62055249  0.58004508  0.54856222\n",
      "  0.50851368  0.495234    0.45408445  0.45133653  0.44782253  0.41931604\n",
      "  0.3918953   0.37460103  0.36057247  0.32770196  0.31587362  0.29142892\n",
      "  0.27395689  0.26381012  0.24950532  0.23769458  0.23054617  0.21385988\n",
      "  0.20128291  0.19881887  0.18347601  0.16325681  0.15902338  0.14799648\n",
      "  0.13807118  0.13191124  0.12316553  0.11004631  0.10077501  0.08838749\n",
      "  0.07836615  0.07800611  0.06658167  0.05423125  0.0503364   0.04464079\n",
      "  0.02696128]\n"
     ]
    }
   ],
   "source": [
    "#pca correct => slide 59 cours 4 => valeur du coude (elbow method)\n",
    "#essais differentes valeurs, selon le nombre d'axe que l'on prend / garde\n",
    "from sklearn.decomposition import PCA\n",
    "\n",
    "acp = PCA(svd_solver='full')#, n_components = 12)\n",
    "acp.fit(x_train)\n",
    "coord = acp.fit_transform(x_train_normal)\n",
    "#print(acp.n_components)w\n",
    "#print(acp.explained_variance_)\n",
    "\n",
    "n = x_train.shape[0]\n",
    "eigval = (n-1)/n*acp.explained_variance_\n",
    "print(eigval)"
   ]
  },
  {
   "cell_type": "code",
   "execution_count": 43,
   "metadata": {},
   "outputs": [
    {
     "name": "stdout",
     "output_type": "stream",
     "text": [
      "[0.25964093 0.13696448 0.05959207 0.05188646 0.04410702 0.03174958\n",
      " 0.02794517 0.02667415 0.02138825 0.01920032 0.01783315 0.01756591\n",
      " 0.01621116 0.01585982 0.01450502 0.01394828 0.01327389 0.01194278\n",
      " 0.01119288 0.0109184  0.01035035 0.01017299 0.00950894 0.00899282\n",
      " 0.00833629 0.00811859 0.00744401 0.00739896 0.00734135 0.00687403\n",
      " 0.00642451 0.006141   0.00591102 0.00537216 0.00517826 0.00477752\n",
      " 0.0044911  0.00432476 0.00409025 0.00389663 0.00377945 0.0035059\n",
      " 0.00329972 0.00325933 0.0030078  0.00267634 0.00260694 0.00242617\n",
      " 0.00226346 0.00216248 0.00201911 0.00180404 0.00165205 0.00144898\n",
      " 0.00128469 0.00127879 0.0010915  0.00088904 0.00082519 0.00073182\n",
      " 0.00044199]\n"
     ]
    }
   ],
   "source": [
    "print(acp.explained_variance_ratio_)"
   ]
  },
  {
   "cell_type": "code",
   "execution_count": 44,
   "metadata": {},
   "outputs": [
    {
     "data": {
      "image/png": "[encoded data removed]",
      "text/plain": [
       "<Figure size 432x288 with 1 Axes>"
      ]
     },
     "metadata": {
      "needs_background": "light"
     },
     "output_type": "display_data"
    }
   ],
   "source": [
    "# Variance en fonction des axes\n",
    "p = x_train.shape[1]\n",
    "plt.plot(np.arange(1,p+1),eigval)\n",
    "plt.title(\"Scree plot\")\n",
    "plt.ylabel(\"Eigen values\")\n",
    "plt.xlabel(\"Factor number\")\n",
    "plt.show()\n"
   ]
  },
  {
   "cell_type": "code",
   "execution_count": 45,
   "metadata": {},
   "outputs": [
    {
     "data": {
      "text/plain": [
       "array([0.25964093, 0.13696448, 0.05959207, 0.05188646, 0.04410702,\n",
       "       0.03174958, 0.02794517, 0.02667415, 0.02138825, 0.01920032,\n",
       "       0.01783315, 0.01756591, 0.01621116, 0.01585982, 0.01450502,\n",
       "       0.01394828, 0.01327389, 0.01194278, 0.01119288, 0.0109184 ,\n",
       "       0.01035035, 0.01017299, 0.00950894, 0.00899282, 0.00833629,\n",
       "       0.00811859, 0.00744401, 0.00739896, 0.00734135, 0.00687403,\n",
       "       0.00642451, 0.006141  , 0.00591102, 0.00537216, 0.00517826,\n",
       "       0.00477752, 0.0044911 , 0.00432476, 0.00409025, 0.00389663,\n",
       "       0.00377945, 0.0035059 , 0.00329972, 0.00325933, 0.0030078 ,\n",
       "       0.00267634, 0.00260694, 0.00242617, 0.00226346, 0.00216248,\n",
       "       0.00201911, 0.00180404, 0.00165205, 0.00144898, 0.00128469,\n",
       "       0.00127879, 0.0010915 , 0.00088904, 0.00082519, 0.00073182,\n",
       "       0.00044199])"
      ]
     },
     "execution_count": 45,
     "metadata": {},
     "output_type": "execute_result"
    }
   ],
   "source": [
    "acp.explained_variance_ratio_"
   ]
  },
  {
   "cell_type": "code",
   "execution_count": 46,
   "metadata": {},
   "outputs": [
    {
     "data": {
      "image/png": "[encoded data removed]",
      "text/plain": [
       "<Figure size 432x288 with 1 Axes>"
      ]
     },
     "metadata": {
      "needs_background": "light"
     },
     "output_type": "display_data"
    }
   ],
   "source": [
    "# \n",
    "p = x_train.shape[1]\n",
    "plt.plot(np.arange(1,p+1),np.cumsum(acp.explained_variance_ratio_))\n",
    "plt.title(\"Explained variance vs. # of factors\")\n",
    "plt.ylabel(\"Cumsum explained variance ratio\")\n",
    "plt.xlabel(\"Factor number\")\n",
    "plt.show()"
   ]
  },
  {
   "cell_type": "markdown",
   "metadata": {},
   "source": [
    "## Etudier l’opportunité d’une réduction de dimension\n",
    "- Tester les perfs obtenus pour différentes valeurs\n",
    "- Visualiser la variance expliquée par chaque axe\n",
    "- Justifier le nombre d’axes retenus\n",
    "\n",
    "### Boite à outils  \n",
    "Analyse en composante principale : https://scikit-learn.org/stable/modules/generated/sklearn.decomposition.PCA.html   "
   ]
  },
  {
   "cell_type": "code",
   "execution_count": 80,
   "metadata": {
    "scrolled": true
   },
   "outputs": [
    {
     "data": {
      "text/plain": [
       "(320,)"
      ]
     },
     "execution_count": 80,
     "metadata": {},
     "output_type": "execute_result"
    }
   ],
   "source": [
    "from sklearn.model_selection import train_test_split\n",
    "\n",
    "x = x_train_normal#.values\n",
    "y = df_train['category'].values\n",
    "y.shape"
   ]
  },
  {
   "cell_type": "code",
   "execution_count": 62,
   "metadata": {},
   "outputs": [],
   "source": [
    "x_entrainement, x_TEST, y_entrainement_cat, y_TEST_cat = train_test_split(x,\n",
    "                                                    y,\n",
    "                                                    test_size = 0.2,\n",
    "                                                    random_state = 42)"
   ]
  },
  {
   "cell_type": "code",
   "execution_count": 81,
   "metadata": {},
   "outputs": [
    {
     "data": {
      "text/plain": [
       "(256, 61)"
      ]
     },
     "execution_count": 81,
     "metadata": {},
     "output_type": "execute_result"
    }
   ],
   "source": [
    "x_entrainement.shape"
   ]
  },
  {
   "cell_type": "code",
   "execution_count": 82,
   "metadata": {},
   "outputs": [
    {
     "data": {
      "text/plain": [
       "(256,)"
      ]
     },
     "execution_count": 82,
     "metadata": {},
     "output_type": "execute_result"
    }
   ],
   "source": [
    "y_entrainement_cat.shape"
   ]
  },
  {
   "cell_type": "code",
   "execution_count": 83,
   "metadata": {},
   "outputs": [
    {
     "data": {
      "text/plain": [
       "(64, 61)"
      ]
     },
     "execution_count": 83,
     "metadata": {},
     "output_type": "execute_result"
    }
   ],
   "source": [
    "x_TEST.shape"
   ]
  },
  {
   "cell_type": "code",
   "execution_count": 84,
   "metadata": {},
   "outputs": [
    {
     "data": {
      "text/plain": [
       "(64,)"
      ]
     },
     "execution_count": 84,
     "metadata": {},
     "output_type": "execute_result"
    }
   ],
   "source": [
    "y_TEST_cat.shape"
   ]
  },
  {
   "cell_type": "markdown",
   "metadata": {},
   "source": [
    "## Créer un échantillon non biaisé de validation\n",
    "A moins que vous n'utilisiez la k-fold validation (stratifiée ?)\n",
    "\n",
    "### Boite à outil :   \n",
    "`from sklearn.model_selection import train_test_split`  "
   ]
  },
  {
   "cell_type": "code",
   "execution_count": 67,
   "metadata": {
    "scrolled": true
   },
   "outputs": [
    {
     "data": {
      "text/plain": [
       "0.671875"
      ]
     },
     "execution_count": 67,
     "metadata": {},
     "output_type": "execute_result"
    }
   ],
   "source": [
    "from sklearn.svm import SVC\n",
    "from sklearn.pipeline import make_pipeline\n",
    "from sklearn.metrics import accuracy_score\n",
    "\n",
    "svc = make_pipeline(StandardScaler(), SVC(gamma='auto'))\n",
    "svc.fit(x_entrainement, y_entrainement_cat)\n",
    "svc_predict = svc.predict(x_TEST)\n",
    "#print(svc_predict)\n",
    "\n",
    "accuracy_score(y_TEST_cat, svc_predict)"
   ]
  },
  {
   "cell_type": "code",
   "execution_count": 68,
   "metadata": {},
   "outputs": [
    {
     "data": {
      "text/plain": [
       "0.5185787517119937"
      ]
     },
     "execution_count": 68,
     "metadata": {},
     "output_type": "execute_result"
    }
   ],
   "source": [
    "from sklearn.ensemble import RandomForestRegressor\n",
    "from sklearn.metrics import accuracy_score\n",
    "\n",
    "rfr = RandomForestRegressor()\n",
    "rfr.fit(x_entrainement,y_entrainement_cat)\n",
    "rfr_pred = rfr.predict(x_TEST)\n",
    "#rfr_pred.shape\n",
    "\n",
    "from sklearn import metrics\n",
    "metrics.r2_score(y_TEST_cat,rfr_pred)"
   ]
  },
  {
   "cell_type": "code",
   "execution_count": 74,
   "metadata": {},
   "outputs": [
    {
     "data": {
      "text/plain": [
       "0.21111328507141458"
      ]
     },
     "execution_count": 74,
     "metadata": {},
     "output_type": "execute_result"
    }
   ],
   "source": [
    "from sklearn.linear_model import LogisticRegression\n",
    "\n",
    "rl = LogisticRegression(random_state=0).fit(x_entrainement,y_entrainement_cat)\n",
    "\n",
    "rl_predict = rl.predict(x_TEST)\n",
    "\n",
    "#accuracy_score(y_TEST_cat, rl_predict)\n",
    "from sklearn import metrics\n",
    "metrics.r2_score(y_TEST_cat,rl_predict)"
   ]
  },
  {
   "cell_type": "markdown",
   "metadata": {},
   "source": [
    "## Entrainer différents algorithmes de classification\n",
    "\n",
    "`model = ...`   \n",
    "`model.fit(X_train, y_train)`\n",
    "\n",
    "### Boite à outils  \n",
    "SVM : https://scikit-learn.org/stable/modules/generated/sklearn.svm.SVC.html   \n",
    "Random Forest : https://scikit-learn.org/stable/modules/generated/sklearn.ensemble.RandomForestClassifier   \n",
    "Regression logistique : https://scikit-learn.org/stable/modules/generated/sklearn.linear_model.LogisticRegression.html   "
   ]
  },
  {
   "cell_type": "code",
   "execution_count": 85,
   "metadata": {
    "scrolled": false
   },
   "outputs": [
    {
     "ename": "ValueError",
     "evalue": "Classification metrics can't handle a mix of continuous-multioutput and multiclass targets",
     "output_type": "error",
     "traceback": [
      "\u001b[1;31m---------------------------------------------------------------------------\u001b[0m",
      "\u001b[1;31mValueError\u001b[0m                                Traceback (most recent call last)",
      "\u001b[1;32m<ipython-input-85-c02cac17b885>\u001b[0m in \u001b[0;36m<module>\u001b[1;34m\u001b[0m\n\u001b[0;32m      6\u001b[0m \u001b[1;32mimport\u001b[0m \u001b[0mseaborn\u001b[0m \u001b[1;32mas\u001b[0m \u001b[0msn\u001b[0m\u001b[1;33m\u001b[0m\u001b[1;33m\u001b[0m\u001b[0m\n\u001b[0;32m      7\u001b[0m \u001b[1;33m\u001b[0m\u001b[0m\n\u001b[1;32m----> 8\u001b[1;33m \u001b[0mdata\u001b[0m \u001b[1;33m=\u001b[0m \u001b[0mconfusion_matrix\u001b[0m\u001b[1;33m(\u001b[0m\u001b[0mx_TEST\u001b[0m\u001b[1;33m,\u001b[0m \u001b[0my_TEST_cat\u001b[0m\u001b[1;33m)\u001b[0m\u001b[1;33m\u001b[0m\u001b[1;33m\u001b[0m\u001b[0m\n\u001b[0m\u001b[0;32m      9\u001b[0m \u001b[0mdf_cm\u001b[0m \u001b[1;33m=\u001b[0m \u001b[0mpd\u001b[0m\u001b[1;33m.\u001b[0m\u001b[0mDataFrame\u001b[0m\u001b[1;33m(\u001b[0m\u001b[0mdata\u001b[0m\u001b[1;33m,\u001b[0m \u001b[0mcolumns\u001b[0m\u001b[1;33m=\u001b[0m\u001b[0mnp\u001b[0m\u001b[1;33m.\u001b[0m\u001b[0munique\u001b[0m\u001b[1;33m(\u001b[0m\u001b[0mx_TEST\u001b[0m\u001b[1;33m)\u001b[0m\u001b[1;33m,\u001b[0m \u001b[0mindex\u001b[0m \u001b[1;33m=\u001b[0m \u001b[0mnp\u001b[0m\u001b[1;33m.\u001b[0m\u001b[0munique\u001b[0m\u001b[1;33m(\u001b[0m\u001b[0my_TEST_cat\u001b[0m\u001b[1;33m)\u001b[0m\u001b[1;33m)\u001b[0m\u001b[1;33m\u001b[0m\u001b[1;33m\u001b[0m\u001b[0m\n\u001b[0;32m     10\u001b[0m \u001b[0mdf_cm\u001b[0m\u001b[1;33m.\u001b[0m\u001b[0mindex\u001b[0m\u001b[1;33m.\u001b[0m\u001b[0mname\u001b[0m \u001b[1;33m=\u001b[0m \u001b[1;34m'Actual'\u001b[0m\u001b[1;33m\u001b[0m\u001b[1;33m\u001b[0m\u001b[0m\n",
      "\u001b[1;32m~\\anaconda3\\lib\\site-packages\\sklearn\\utils\\validation.py\u001b[0m in \u001b[0;36minner_f\u001b[1;34m(*args, **kwargs)\u001b[0m\n\u001b[0;32m     70\u001b[0m                           FutureWarning)\n\u001b[0;32m     71\u001b[0m         \u001b[0mkwargs\u001b[0m\u001b[1;33m.\u001b[0m\u001b[0mupdate\u001b[0m\u001b[1;33m(\u001b[0m\u001b[1;33m{\u001b[0m\u001b[0mk\u001b[0m\u001b[1;33m:\u001b[0m \u001b[0marg\u001b[0m \u001b[1;32mfor\u001b[0m \u001b[0mk\u001b[0m\u001b[1;33m,\u001b[0m \u001b[0marg\u001b[0m \u001b[1;32min\u001b[0m \u001b[0mzip\u001b[0m\u001b[1;33m(\u001b[0m\u001b[0msig\u001b[0m\u001b[1;33m.\u001b[0m\u001b[0mparameters\u001b[0m\u001b[1;33m,\u001b[0m \u001b[0margs\u001b[0m\u001b[1;33m)\u001b[0m\u001b[1;33m}\u001b[0m\u001b[1;33m)\u001b[0m\u001b[1;33m\u001b[0m\u001b[1;33m\u001b[0m\u001b[0m\n\u001b[1;32m---> 72\u001b[1;33m         \u001b[1;32mreturn\u001b[0m \u001b[0mf\u001b[0m\u001b[1;33m(\u001b[0m\u001b[1;33m**\u001b[0m\u001b[0mkwargs\u001b[0m\u001b[1;33m)\u001b[0m\u001b[1;33m\u001b[0m\u001b[1;33m\u001b[0m\u001b[0m\n\u001b[0m\u001b[0;32m     73\u001b[0m     \u001b[1;32mreturn\u001b[0m \u001b[0minner_f\u001b[0m\u001b[1;33m\u001b[0m\u001b[1;33m\u001b[0m\u001b[0m\n\u001b[0;32m     74\u001b[0m \u001b[1;33m\u001b[0m\u001b[0m\n",
      "\u001b[1;32m~\\anaconda3\\lib\\site-packages\\sklearn\\metrics\\_classification.py\u001b[0m in \u001b[0;36mconfusion_matrix\u001b[1;34m(y_true, y_pred, labels, sample_weight, normalize)\u001b[0m\n\u001b[0;32m    274\u001b[0m \u001b[1;33m\u001b[0m\u001b[0m\n\u001b[0;32m    275\u001b[0m     \"\"\"\n\u001b[1;32m--> 276\u001b[1;33m     \u001b[0my_type\u001b[0m\u001b[1;33m,\u001b[0m \u001b[0my_true\u001b[0m\u001b[1;33m,\u001b[0m \u001b[0my_pred\u001b[0m \u001b[1;33m=\u001b[0m \u001b[0m_check_targets\u001b[0m\u001b[1;33m(\u001b[0m\u001b[0my_true\u001b[0m\u001b[1;33m,\u001b[0m \u001b[0my_pred\u001b[0m\u001b[1;33m)\u001b[0m\u001b[1;33m\u001b[0m\u001b[1;33m\u001b[0m\u001b[0m\n\u001b[0m\u001b[0;32m    277\u001b[0m     \u001b[1;32mif\u001b[0m \u001b[0my_type\u001b[0m \u001b[1;32mnot\u001b[0m \u001b[1;32min\u001b[0m \u001b[1;33m(\u001b[0m\u001b[1;34m\"binary\"\u001b[0m\u001b[1;33m,\u001b[0m \u001b[1;34m\"multiclass\"\u001b[0m\u001b[1;33m)\u001b[0m\u001b[1;33m:\u001b[0m\u001b[1;33m\u001b[0m\u001b[1;33m\u001b[0m\u001b[0m\n\u001b[0;32m    278\u001b[0m         \u001b[1;32mraise\u001b[0m \u001b[0mValueError\u001b[0m\u001b[1;33m(\u001b[0m\u001b[1;34m\"%s is not supported\"\u001b[0m \u001b[1;33m%\u001b[0m \u001b[0my_type\u001b[0m\u001b[1;33m)\u001b[0m\u001b[1;33m\u001b[0m\u001b[1;33m\u001b[0m\u001b[0m\n",
      "\u001b[1;32m~\\anaconda3\\lib\\site-packages\\sklearn\\metrics\\_classification.py\u001b[0m in \u001b[0;36m_check_targets\u001b[1;34m(y_true, y_pred)\u001b[0m\n\u001b[0;32m     88\u001b[0m \u001b[1;33m\u001b[0m\u001b[0m\n\u001b[0;32m     89\u001b[0m     \u001b[1;32mif\u001b[0m \u001b[0mlen\u001b[0m\u001b[1;33m(\u001b[0m\u001b[0my_type\u001b[0m\u001b[1;33m)\u001b[0m \u001b[1;33m>\u001b[0m \u001b[1;36m1\u001b[0m\u001b[1;33m:\u001b[0m\u001b[1;33m\u001b[0m\u001b[1;33m\u001b[0m\u001b[0m\n\u001b[1;32m---> 90\u001b[1;33m         raise ValueError(\"Classification metrics can't handle a mix of {0} \"\n\u001b[0m\u001b[0;32m     91\u001b[0m                          \"and {1} targets\".format(type_true, type_pred))\n\u001b[0;32m     92\u001b[0m \u001b[1;33m\u001b[0m\u001b[0m\n",
      "\u001b[1;31mValueError\u001b[0m: Classification metrics can't handle a mix of continuous-multioutput and multiclass targets"
     ]
    }
   ],
   "source": [
    "import matplotlib.pyplot as plt\n",
    "import pandas as pd\n",
    "from sklearn import svm, datasets\n",
    "from sklearn.model_selection import train_test_split\n",
    "from sklearn.metrics import confusion_matrix\n",
    "import seaborn as sn\n",
    "\n",
    "data = confusion_matrix(x_TEST, y_TEST_cat)\n",
    "df_cm = pd.DataFrame(data, columns=np.unique(x_TEST), index = np.unique(y_TEST_cat))\n",
    "df_cm.index.name = 'Actual'\n",
    "df_cm.columns.name = 'Predicted'\n",
    "plt.figure(figsize = (10,7))\n",
    "sn.set(font_scale=1.4)#for label size\n",
    "sn.heatmap(df_cm, cmap=\"Blues\", annot=True,annot_kws={\"size\": 16})# font size"
   ]
  },
  {
   "cell_type": "code",
   "execution_count": 77,
   "metadata": {},
   "outputs": [
    {
     "ename": "NameError",
     "evalue": "name 'y_pred' is not defined",
     "output_type": "error",
     "traceback": [
      "\u001b[1;31m---------------------------------------------------------------------------\u001b[0m",
      "\u001b[1;31mNameError\u001b[0m                                 Traceback (most recent call last)",
      "\u001b[1;32m<ipython-input-77-a950412d13d5>\u001b[0m in \u001b[0;36m<module>\u001b[1;34m\u001b[0m\n\u001b[1;32m----> 1\u001b[1;33m \u001b[0my_pred\u001b[0m\u001b[1;33m.\u001b[0m\u001b[0mshape\u001b[0m\u001b[1;33m\u001b[0m\u001b[1;33m\u001b[0m\u001b[0m\n\u001b[0m",
      "\u001b[1;31mNameError\u001b[0m: name 'y_pred' is not defined"
     ]
    }
   ],
   "source": [
    "y_pred.shape"
   ]
  },
  {
   "cell_type": "code",
   "execution_count": 71,
   "metadata": {
    "scrolled": true
   },
   "outputs": [
    {
     "ename": "NameError",
     "evalue": "name 'y_TRAIN' is not defined",
     "output_type": "error",
     "traceback": [
      "\u001b[1;31m---------------------------------------------------------------------------\u001b[0m",
      "\u001b[1;31mNameError\u001b[0m                                 Traceback (most recent call last)",
      "\u001b[1;32m<ipython-input-71-80e2b98e0485>\u001b[0m in \u001b[0;36m<module>\u001b[1;34m\u001b[0m\n\u001b[1;32m----> 1\u001b[1;33m \u001b[0my_TRAIN\u001b[0m\u001b[1;33m.\u001b[0m\u001b[0mshape\u001b[0m\u001b[1;33m\u001b[0m\u001b[1;33m\u001b[0m\u001b[0m\n\u001b[0m",
      "\u001b[1;31mNameError\u001b[0m: name 'y_TRAIN' is not defined"
     ]
    }
   ],
   "source": [
    "y_TRAIN.shape"
   ]
  },
  {
   "cell_type": "code",
   "execution_count": 72,
   "metadata": {},
   "outputs": [
    {
     "ename": "SyntaxError",
     "evalue": "invalid syntax (<ipython-input-72-af6132c987e9>, line 1)",
     "output_type": "error",
     "traceback": [
      "\u001b[1;36m  File \u001b[1;32m\"<ipython-input-72-af6132c987e9>\"\u001b[1;36m, line \u001b[1;32m1\u001b[0m\n\u001b[1;33m    ValueError: The number of FixedLocator locations (4),\u001b[0m\n\u001b[1;37m                    ^\u001b[0m\n\u001b[1;31mSyntaxError\u001b[0m\u001b[1;31m:\u001b[0m invalid syntax\n"
     ]
    }
   ],
   "source": [
    "ValueError: The number of FixedLocator locations (4), \n",
    "    usually from a call to set_ticks, does not match \n",
    "    the number of ticklabels (3)."
   ]
  },
  {
   "cell_type": "code",
   "execution_count": null,
   "metadata": {},
   "outputs": [],
   "source": []
  },
  {
   "cell_type": "markdown",
   "metadata": {},
   "source": [
    "## Comparer la performance de différents algorithmes\n",
    "Faire des prédictions et evaluer leur justesse de ces prédictions à l'aide de différents indicateurs :\n",
    "- Matrice de confusion\n",
    "- Accuracy\n",
    "- F-Score\n",
    "\n",
    "### Boite à outils  \n",
    "Un rapport de performance clé en main : https://scikit-learn.org/stable/modules/generated/sklearn.metrics.classification_report.html   \n",
    "\n",
    "Liste des différents indicateurs : https://scikit-learn.org/stable/modules/model_evaluation.html\n",
    "\n",
    "Faire une prédiction avec un model sklearn entrainé :\n",
    "`y_pred_1 = model_1.predict(X_val, y_val)`   \n",
    "\n",
    "\n",
    "\n"
   ]
  },
  {
   "cell_type": "code",
   "execution_count": null,
   "metadata": {},
   "outputs": [],
   "source": []
  },
  {
   "cell_type": "markdown",
   "metadata": {},
   "source": [
    "## Optimiser les hyper-paramètres de l’algorithme retenu\n",
    "Tester différents hyper-paramètres pour tirer au mieux partit de l'algorithme retenu\n",
    "\n",
    "### Boite à outils  \n",
    "GridSearchCV :  https://scikit-learn.org/stable/modules/generated/sklearn.model_selection.GridSearchCV.html\n",
    "\n"
   ]
  },
  {
   "cell_type": "code",
   "execution_count": null,
   "metadata": {},
   "outputs": [],
   "source": []
  },
  {
   "cell_type": "markdown",
   "metadata": {},
   "source": [
    "## Prédire des valeurs pour le jeu de test \n",
    "Créer un fichier au format .csv contenant  vos prédictions.\n",
    "En header le nom des colonnes (music_id et prediction) et pour chacun des morceaux la catégorie prédite.\n",
    "\n",
    "Vérifier que votre notebook fonctionne avant de le rendre \n",
    "\n",
    "### Boite à outils  \n",
    "exporter un dataFrame pandas au format csv :\n",
    "`df_test.to_csv('data/test.csv' , sep=',', decimal='.')`"
   ]
  },
  {
   "cell_type": "code",
   "execution_count": null,
   "metadata": {},
   "outputs": [],
   "source": []
  }
 ],
 "metadata": {
  "kernelspec": {
   "display_name": "Python 3",
   "language": "python",
   "name": "python3"
  },
  "language_info": {
   "codemirror_mode": {
    "name": "ipython",
    "version": 3
   },
   "file_extension": ".py",
   "mimetype": "text/x-python",
   "name": "python",
   "nbconvert_exporter": "python",
   "pygments_lexer": "ipython3",
   "version": "3.8.5"
  }
 },
 "nbformat": 4,
 "nbformat_minor": 2
}
